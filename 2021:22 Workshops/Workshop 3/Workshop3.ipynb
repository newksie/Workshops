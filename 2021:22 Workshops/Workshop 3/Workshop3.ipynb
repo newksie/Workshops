{
 "cells": [
  {
   "cell_type": "markdown",
   "metadata": {},
   "source": [
    "# Workshop 3\n",
    "Many thanks to Theano Xirouchaki for their workshop template! - https://github.com/theo-xir\n",
    "## Numpy\n",
    "\n",
    "Numpy is a very useful library that gives an alternative way to work with arrays. It also provides statistical functions and vector and matrix operations. To begin with, let's import it. Note: the \"as np\" part means we can refer to it as \"np\" instead of \"numpy\" for the rest of the file. We are, essentially, creating an alias, or nickname. This library is vital because of how much it speeds up computation by <b>vectorising</b> your data."
   ]
  },
  {
   "cell_type": "code",
   "execution_count": 1,
   "metadata": {},
   "outputs": [],
   "source": [
    "import numpy as np"
   ]
  },
  {
   "cell_type": "markdown",
   "metadata": {},
   "source": [
    "We can create a numpy array as follows:"
   ]
  },
  {
   "cell_type": "code",
   "execution_count": 2,
   "metadata": {},
   "outputs": [
    {
     "name": "stdout",
     "output_type": "stream",
     "text": [
      "[1 9 8 3]\n"
     ]
    }
   ],
   "source": [
    "a  = np.array([1,9,8,3])\n",
    "print(a)"
   ]
  },
  {
   "cell_type": "code",
   "execution_count": 3,
   "metadata": {},
   "outputs": [
    {
     "name": "stdout",
     "output_type": "stream",
     "text": [
      "[1, 9, 8, 3]\n",
      "[1 9 8 3]\n"
     ]
    }
   ],
   "source": [
    "l = [1,9,8,3]\n",
    "print(l)\n",
    "ltoa=np.array(l)\n",
    "print(ltoa)"
   ]
  },
  {
   "cell_type": "markdown",
   "metadata": {},
   "source": [
    "Sometimes we might want to apply an operation to an entire list at once. If we try this with our generic python list, we will see it does not work."
   ]
  },
  {
   "cell_type": "code",
   "execution_count": 4,
   "metadata": {
    "scrolled": true
   },
   "outputs": [
    {
     "ename": "TypeError",
     "evalue": "can only concatenate list (not \"int\") to list",
     "output_type": "error",
     "traceback": [
      "\u001b[0;31m---------------------------------------------------------------------------\u001b[0m",
      "\u001b[0;31mTypeError\u001b[0m                                 Traceback (most recent call last)",
      "\u001b[0;32m<ipython-input-4-246250875576>\u001b[0m in \u001b[0;36m<module>\u001b[0;34m\u001b[0m\n\u001b[0;32m----> 1\u001b[0;31m \u001b[0mprint\u001b[0m\u001b[0;34m(\u001b[0m\u001b[0ml\u001b[0m\u001b[0;34m+\u001b[0m\u001b[0;36m10\u001b[0m\u001b[0;34m)\u001b[0m\u001b[0;34m\u001b[0m\u001b[0;34m\u001b[0m\u001b[0m\n\u001b[0m",
      "\u001b[0;31mTypeError\u001b[0m: can only concatenate list (not \"int\") to list"
     ]
    }
   ],
   "source": [
    "print(l+10)"
   ]
  },
  {
   "cell_type": "markdown",
   "metadata": {},
   "source": [
    "However, it does work with numpy arrays."
   ]
  },
  {
   "cell_type": "code",
   "execution_count": 5,
   "metadata": {},
   "outputs": [
    {
     "name": "stdout",
     "output_type": "stream",
     "text": [
      "[11 19 18 13]\n"
     ]
    }
   ],
   "source": [
    "print(a+10)"
   ]
  },
  {
   "cell_type": "code",
   "execution_count": 6,
   "metadata": {},
   "outputs": [
    {
     "name": "stdout",
     "output_type": "stream",
     "text": [
      "[ 2 18 16  6]\n"
     ]
    }
   ],
   "source": [
    "print(a*2)"
   ]
  },
  {
   "cell_type": "markdown",
   "metadata": {},
   "source": [
    "We can check the shape of an array and the type of its elements."
   ]
  },
  {
   "cell_type": "code",
   "execution_count": 7,
   "metadata": {},
   "outputs": [
    {
     "name": "stdout",
     "output_type": "stream",
     "text": [
      "(4,)\n",
      "int64\n"
     ]
    }
   ],
   "source": [
    "print(a.shape)\n",
    "print(a.dtype)"
   ]
  },
  {
   "cell_type": "markdown",
   "metadata": {},
   "source": [
    "We can also create 2D arrays (and higher, but we're not going to worry about that)."
   ]
  },
  {
   "cell_type": "code",
   "execution_count": 8,
   "metadata": {
    "scrolled": true
   },
   "outputs": [
    {
     "name": "stdout",
     "output_type": "stream",
     "text": [
      "[[1 2 3]\n",
      " [4 5 6]]\n",
      "(2, 3)\n"
     ]
    }
   ],
   "source": [
    "b = np.array([(1,2,3),\n",
    "              (4,5,6)])\n",
    "print(b)\n",
    "print(b.shape)"
   ]
  },
  {
   "cell_type": "markdown",
   "metadata": {},
   "source": [
    "We can easily create an array of certain dimensions and initialise all its values to zero as follows."
   ]
  },
  {
   "cell_type": "code",
   "execution_count": 9,
   "metadata": {},
   "outputs": [
    {
     "name": "stdout",
     "output_type": "stream",
     "text": [
      "float64\n",
      "[[0. 0. 0.]\n",
      " [0. 0. 0.]]\n"
     ]
    }
   ],
   "source": [
    "f = np.zeros((2,3))\n",
    "print(f.dtype)\n",
    "print(f)"
   ]
  },
  {
   "cell_type": "markdown",
   "metadata": {},
   "source": [
    "We can also choose what type we want the elements to be."
   ]
  },
  {
   "cell_type": "code",
   "execution_count": 10,
   "metadata": {},
   "outputs": [
    {
     "name": "stdout",
     "output_type": "stream",
     "text": [
      "[[0 0 0]\n",
      " [0 0 0]]\n"
     ]
    }
   ],
   "source": [
    "print(np.zeros((2,3), dtype=np.int32))"
   ]
  },
  {
   "cell_type": "markdown",
   "metadata": {},
   "source": [
    "We can similarly create an array with all its values initialised to one."
   ]
  },
  {
   "cell_type": "code",
   "execution_count": 11,
   "metadata": {},
   "outputs": [
    {
     "name": "stdout",
     "output_type": "stream",
     "text": [
      "[[1 1 1]\n",
      " [1 1 1]]\n"
     ]
    }
   ],
   "source": [
    "print(np.ones((2,3), dtype=np.int16))"
   ]
  },
  {
   "cell_type": "markdown",
   "metadata": {},
   "source": [
    " We can index numpy arrays with the same logic as generic python arrays."
   ]
  },
  {
   "cell_type": "code",
   "execution_count": 12,
   "metadata": {},
   "outputs": [
    {
     "name": "stdout",
     "output_type": "stream",
     "text": [
      "[[1 2 3]\n",
      " [4 5 6]]\n"
     ]
    }
   ],
   "source": [
    "print(b)"
   ]
  },
  {
   "cell_type": "code",
   "execution_count": 13,
   "metadata": {},
   "outputs": [
    {
     "name": "stdout",
     "output_type": "stream",
     "text": [
      "First row: [1 2 3]\n"
     ]
    }
   ],
   "source": [
    "print('First row:', b[0])"
   ]
  },
  {
   "cell_type": "code",
   "execution_count": 14,
   "metadata": {},
   "outputs": [
    {
     "name": "stdout",
     "output_type": "stream",
     "text": [
      "Second element of first row:  2\n",
      "Second element of first row:  2\n"
     ]
    }
   ],
   "source": [
    "print('Second element of first row: ', b[0][1])\n",
    "print('Second element of first row: ', b[0,1])"
   ]
  },
  {
   "cell_type": "code",
   "execution_count": 15,
   "metadata": {},
   "outputs": [
    {
     "name": "stdout",
     "output_type": "stream",
     "text": [
      "Second column: [2 5]\n"
     ]
    }
   ],
   "source": [
    "print('Second column:', b[:,1])"
   ]
  },
  {
   "cell_type": "markdown",
   "metadata": {},
   "source": [
    "Note, a big advantage to NumPy is the ability to select columns far more easliy than a 'list of lists' method."
   ]
  },
  {
   "cell_type": "code",
   "execution_count": 16,
   "metadata": {},
   "outputs": [
    {
     "name": "stdout",
     "output_type": "stream",
     "text": [
      "[[1, 2, 3], [4, 5, 6]]\n",
      "[2, 5]\n"
     ]
    }
   ],
   "source": [
    "b_bad = [[1,2,3],[4,5,6]]\n",
    "print(b_bad)\n",
    "\n",
    "col2 = []\n",
    "for row in b_bad:\n",
    "    col2.append(row[1])\n",
    "print(col2)"
   ]
  },
  {
   "cell_type": "markdown",
   "metadata": {},
   "source": [
    "We can reshape an array as follows.\n"
   ]
  },
  {
   "cell_type": "code",
   "execution_count": 20,
   "metadata": {},
   "outputs": [
    {
     "name": "stdout",
     "output_type": "stream",
     "text": [
      "[[1 2 3 4 5 6 7 8]]\n",
      "[[1 2]\n",
      " [3 4]\n",
      " [5 6]\n",
      " [7 8]]\n"
     ]
    }
   ],
   "source": [
    "d = np.array([(1,2,3,4,5,6,7,8)])\n",
    "e = d.reshape(4,2)\n",
    "print(d)\n",
    "print(e)"
   ]
  },
  {
   "cell_type": "code",
   "execution_count": 28,
   "metadata": {},
   "outputs": [
    {
     "data": {
      "text/plain": [
       "array([[1, 2],\n",
       "       [3, 4],\n",
       "       [5, 6]])"
      ]
     },
     "execution_count": 28,
     "metadata": {},
     "output_type": "execute_result"
    }
   ],
   "source": [
    "g = np.array([(1,2,3,4,5,6)])\n",
    "g = g.reshape(-1,2)\n",
    "g"
   ]
  },
  {
   "cell_type": "markdown",
   "metadata": {},
   "source": [
    "Recall from last workshop, we can calculate max, min and mean in a similar way. There are two options: funtion or method. Functions take an input and spit out an output e.g. len(list). Methods are a subset of functions that 'belong' to a type of object e.g. list.append(). Both work here, it's just preference. Methods can have extra uses as we'll see in a second."
   ]
  },
  {
   "cell_type": "code",
   "execution_count": 29,
   "metadata": {},
   "outputs": [
    {
     "name": "stdout",
     "output_type": "stream",
     "text": [
      "1\n",
      "1\n",
      "8\n",
      "4.5\n"
     ]
    }
   ],
   "source": [
    "print(np.min(e))\n",
    "print(e.min())\n",
    "print(e.max())\n",
    "print(e.mean())"
   ]
  },
  {
   "cell_type": "markdown",
   "metadata": {},
   "source": [
    "To calculate the min/max/mean for each row or column, we have an extra argument for our methods."
   ]
  },
  {
   "cell_type": "code",
   "execution_count": 31,
   "metadata": {},
   "outputs": [
    {
     "name": "stdout",
     "output_type": "stream",
     "text": [
      "[[1 2]\n",
      " [3 4]\n",
      " [5 6]\n",
      " [7 8]]\n",
      "[16 20]\n",
      "[ 3  7 11 15]\n"
     ]
    }
   ],
   "source": [
    "print(e)\n",
    "\n",
    "print(e.sum(axis=0))\n",
    "\n",
    "print(e.sum(axis=1))"
   ]
  },
  {
   "cell_type": "markdown",
   "metadata": {},
   "source": [
    "We can also append elements to a numpy array."
   ]
  },
  {
   "cell_type": "code",
   "execution_count": 32,
   "metadata": {},
   "outputs": [
    {
     "name": "stdout",
     "output_type": "stream",
     "text": [
      "[ 1  2  3 10 11 12]\n"
     ]
    }
   ],
   "source": [
    "a = np.array([1, 2, 3])\n",
    "newArray = np.append(a, [10, 11, 12])\n",
    "print(newArray)"
   ]
  },
  {
   "cell_type": "markdown",
   "metadata": {},
   "source": [
    "### Exercise 1:\n",
    "\n",
    "Write a function that, given a number x that is a multiple of 2, returns a numpy list with elements 1,...,x, arranged in rows of 2."
   ]
  },
  {
   "cell_type": "code",
   "execution_count": 39,
   "metadata": {},
   "outputs": [
    {
     "data": {
      "text/plain": [
       "array([[1, 2],\n",
       "       [3, 4],\n",
       "       [5, 6],\n",
       "       [7, 8]])"
      ]
     },
     "execution_count": 39,
     "metadata": {},
     "output_type": "execute_result"
    }
   ],
   "source": [
    "def two_rows(x):\n",
    "    a=np.array(range(1,x+1))\n",
    "    a=a.reshape(-1,2)\n",
    "    return(a)\n",
    "two_rows(8)"
   ]
  },
  {
   "cell_type": "markdown",
   "metadata": {},
   "source": [
    "### Exercise 2:\n",
    "\n",
    "Write a function that creates an x by x identity matrix."
   ]
  },
  {
   "cell_type": "code",
   "execution_count": 41,
   "metadata": {},
   "outputs": [
    {
     "data": {
      "text/plain": [
       "array([[1., 0., 0., 0.],\n",
       "       [0., 1., 0., 0.],\n",
       "       [0., 0., 1., 0.],\n",
       "       [0., 0., 0., 1.]])"
      ]
     },
     "execution_count": 41,
     "metadata": {},
     "output_type": "execute_result"
    }
   ],
   "source": [
    "def x_identity(x):\n",
    "    a = np.zeros((x,x))\n",
    "    for i in range(x):\n",
    "        a[i][i] = 1\n",
    "    return(a)\n",
    "\n",
    "x_identity(4)"
   ]
  },
  {
   "cell_type": "markdown",
   "metadata": {},
   "source": [
    "### Exercise 3:\n",
    "\n",
    "Create a 4x4 NumPy array called 'big_box' with 0s around the outside and a 2x2 square of 1s in the middle. Then, use indexing to select the 2x2 square and assign it to 'little_box'."
   ]
  },
  {
   "cell_type": "code",
   "execution_count": 43,
   "metadata": {},
   "outputs": [
    {
     "name": "stdout",
     "output_type": "stream",
     "text": [
      "[[0 0 0 0]\n",
      " [0 1 1 0]\n",
      " [0 1 1 0]\n",
      " [0 0 0 0]]\n"
     ]
    },
    {
     "data": {
      "text/plain": [
       "array([[1, 1],\n",
       "       [1, 1]])"
      ]
     },
     "execution_count": 43,
     "metadata": {},
     "output_type": "execute_result"
    }
   ],
   "source": [
    "big_box = np.array([(0,0,0,0),(0,1,1,0),(0,1,1,0),(0,0,0,0)])\n",
    "print(big_box)\n",
    "little_box = big_box[1:3,1:3]\n",
    "little_box"
   ]
  },
  {
   "cell_type": "markdown",
   "metadata": {},
   "source": [
    "We can find the dot product of two vectors."
   ]
  },
  {
   "cell_type": "code",
   "execution_count": 44,
   "metadata": {},
   "outputs": [
    {
     "data": {
      "text/plain": [
       "array([[32]])"
      ]
     },
     "execution_count": 44,
     "metadata": {},
     "output_type": "execute_result"
    }
   ],
   "source": [
    "c=np.array([(1,2,3)])\n",
    "d=np.array([(4,5,6)])\n",
    "d=d.reshape(3,1)\n",
    "np.dot(c,d)"
   ]
  },
  {
   "cell_type": "markdown",
   "metadata": {},
   "source": [
    "We can also do matrix multiplication."
   ]
  },
  {
   "cell_type": "code",
   "execution_count": 45,
   "metadata": {},
   "outputs": [
    {
     "data": {
      "text/plain": [
       "array([[10, 20],\n",
       "       [20, 45]])"
      ]
     },
     "execution_count": 45,
     "metadata": {},
     "output_type": "execute_result"
    }
   ],
   "source": [
    "e=np.array([(1,3),(1,8)])\n",
    "f=np.array([(4,5),(2,5)])\n",
    "np.matmul(e,f)"
   ]
  },
  {
   "cell_type": "markdown",
   "metadata": {},
   "source": [
    "Let's talk a bit about distributions. Numpy allows us to sample probability distributions and has some convenient functions for learning things about out data."
   ]
  },
  {
   "cell_type": "code",
   "execution_count": 48,
   "metadata": {},
   "outputs": [
    {
     "name": "stdout",
     "output_type": "stream",
     "text": [
      "[5.64530718 4.42246771 5.46159778 4.88095804 5.03884541]\n"
     ]
    }
   ],
   "source": [
    "normal_array = np.random.normal(5, 0.5, 5)\n",
    "print(normal_array)"
   ]
  },
  {
   "cell_type": "markdown",
   "metadata": {},
   "source": [
    "This takes five samples from a normal distribution with mean 5 and standard deviation 0.5. We can then check various properties of the datapoints we got."
   ]
  },
  {
   "cell_type": "code",
   "execution_count": 49,
   "metadata": {},
   "outputs": [
    {
     "name": "stdout",
     "output_type": "stream",
     "text": [
      "5.089835222413283\n",
      "0.4332125427749374\n"
     ]
    }
   ],
   "source": [
    "print(np.mean(normal_array))\n",
    "print(np.std(normal_array))"
   ]
  },
  {
   "cell_type": "markdown",
   "metadata": {},
   "source": [
    "We can see that the mean and standard deviation of our data is close to that of the distribution they were drawn from, but not identical. Let's see what happens if we increase the sample size."
   ]
  },
  {
   "cell_type": "code",
   "execution_count": 50,
   "metadata": {},
   "outputs": [
    {
     "name": "stdout",
     "output_type": "stream",
     "text": [
      "4.98818247724381\n",
      "0.5001882355373211\n"
     ]
    }
   ],
   "source": [
    "normal_array = np.random.normal(5, 0.5, 50)\n",
    "print(np.mean(normal_array))\n",
    "print(np.std(normal_array))"
   ]
  },
  {
   "cell_type": "code",
   "execution_count": 51,
   "metadata": {},
   "outputs": [
    {
     "name": "stdout",
     "output_type": "stream",
     "text": [
      "4.964967974887905\n",
      "0.5073087469009618\n"
     ]
    }
   ],
   "source": [
    "normal_array = np.random.normal(5, 0.5, 500)\n",
    "print(np.mean(normal_array))\n",
    "print(np.std(normal_array))"
   ]
  },
  {
   "cell_type": "code",
   "execution_count": 52,
   "metadata": {},
   "outputs": [
    {
     "name": "stdout",
     "output_type": "stream",
     "text": [
      "5.0019812123986425\n",
      "0.5033224756446584\n"
     ]
    },
    {
     "data": {
      "text/plain": [
       "array([3.97944686, 4.75108718, 5.4961329 , ..., 5.25387109, 4.58581281,\n",
       "       5.43630929])"
      ]
     },
     "execution_count": 52,
     "metadata": {},
     "output_type": "execute_result"
    }
   ],
   "source": [
    "normal_array = np.random.normal(5, 0.5, 50000)\n",
    "print(np.mean(normal_array))\n",
    "print(np.std(normal_array))\n",
    "normal_array"
   ]
  },
  {
   "cell_type": "markdown",
   "metadata": {},
   "source": [
    "## Matplotlib\n",
    "We are now going to have a look at another very useful library, matplotlib. It is inspired by matlab and helps us plot data. Let's have a look at plotting a simple histogram."
   ]
  },
  {
   "cell_type": "code",
   "execution_count": 57,
   "metadata": {},
   "outputs": [
    {
     "data": {
      "image/png": "[encoded data removed]",
      "text/plain": [
       "<Figure size 432x288 with 1 Axes>"
      ]
     },
     "metadata": {
      "needs_background": "light"
     },
     "output_type": "display_data"
    }
   ],
   "source": [
    "import matplotlib.pyplot as plt\n",
    "\n",
    "plt.hist(normal_array, bins=100)\n",
    "plt.show()"
   ]
  },
  {
   "cell_type": "markdown",
   "metadata": {},
   "source": [
    "### Exercise 4:\n",
    "Use np.random.poisson to sample a Poisson distribution, then plot the data as above. Test different numbers of bins and trials."
   ]
  },
  {
   "cell_type": "code",
   "execution_count": 66,
   "metadata": {},
   "outputs": [
    {
     "data": {
      "image/png": "[encoded data removed]",
      "text/plain": [
       "<Figure size 432x288 with 1 Axes>"
      ]
     },
     "metadata": {
      "needs_background": "light"
     },
     "output_type": "display_data"
    }
   ],
   "source": [
    "poisson = np.random.poisson(5,1000)\n",
    "plt.hist(poisson, 10)\n",
    "plt.show()"
   ]
  },
  {
   "cell_type": "markdown",
   "metadata": {},
   "source": [
    "We can use np.linspace to generate an array of values from a start value to an end value with a given step."
   ]
  },
  {
   "cell_type": "code",
   "execution_count": 69,
   "metadata": {},
   "outputs": [
    {
     "name": "stdout",
     "output_type": "stream",
     "text": [
      "[ 1.  2.  3.  4.  5.  6.  7.  8.  9. 10.]\n"
     ]
    }
   ],
   "source": [
    "print(np.linspace(1,10,10))"
   ]
  },
  {
   "cell_type": "code",
   "execution_count": 70,
   "metadata": {},
   "outputs": [
    {
     "data": {
      "text/plain": [
       "[<matplotlib.lines.Line2D at 0x11b912b10>]"
      ]
     },
     "execution_count": 70,
     "metadata": {},
     "output_type": "execute_result"
    },
    {
     "data": {
      "image/png": "[encoded data removed]",
      "text/plain": [
       "<Figure size 432x288 with 1 Axes>"
      ]
     },
     "metadata": {
      "needs_background": "light"
     },
     "output_type": "display_data"
    }
   ],
   "source": [
    "xs=np.linspace(0, 10, 10)\n",
    "ys=(xs*2)+5\n",
    "plt.plot(xs,ys)"
   ]
  },
  {
   "cell_type": "code",
   "execution_count": 71,
   "metadata": {},
   "outputs": [
    {
     "data": {
      "text/plain": [
       "<function matplotlib.pyplot.show(*args, **kw)>"
      ]
     },
     "execution_count": 71,
     "metadata": {},
     "output_type": "execute_result"
    },
    {
     "data": {
      "image/png": "[encoded data removed]",
      "text/plain": [
       "<Figure size 432x288 with 1 Axes>"
      ]
     },
     "metadata": {
      "needs_background": "light"
     },
     "output_type": "display_data"
    }
   ],
   "source": [
    "xs=np.linspace(0, 10, 10)\n",
    "ys=xs**2 + xs*3 +4\n",
    "plt.plot(xs,ys)\n",
    "plt.show"
   ]
  },
  {
   "cell_type": "code",
   "execution_count": 77,
   "metadata": {},
   "outputs": [
    {
     "data": {
      "text/plain": [
       "<function matplotlib.pyplot.show(*args, **kw)>"
      ]
     },
     "execution_count": 77,
     "metadata": {},
     "output_type": "execute_result"
    },
    {
     "data": {
      "image/png": "[encoded data removed]",
      "text/plain": [
       "<Figure size 432x288 with 1 Axes>"
      ]
     },
     "metadata": {
      "needs_background": "light"
     },
     "output_type": "display_data"
    }
   ],
   "source": [
    "import math\n",
    "xs=np.random.randint(0,20,20)\n",
    "ys=xs**2+xs*3 +4\n",
    "plt.scatter(xs,ys)\n",
    "plt.show"
   ]
  },
  {
   "cell_type": "markdown",
   "metadata": {},
   "source": [
    "We can also change the symbols we use on our plots."
   ]
  },
  {
   "cell_type": "code",
   "execution_count": 78,
   "metadata": {},
   "outputs": [
    {
     "data": {
      "image/png": "[encoded data removed]",
      "text/plain": [
       "<Figure size 432x288 with 1 Axes>"
      ]
     },
     "metadata": {
      "needs_background": "light"
     },
     "output_type": "display_data"
    }
   ],
   "source": [
    "t = np.arange(0., 5., 0.2)\n",
    "\n",
    "# red dashes, blue squares and green triangles\n",
    "plt.plot(t, t, 'r--', t, t**2, 'bs', t, t**3, 'g^')\n",
    "plt.show()"
   ]
  },
  {
   "cell_type": "markdown",
   "metadata": {},
   "source": [
    "There is a lot more we can do with this library! We encourage you to try things for yourself, there is a lot of documentation and examples online."
   ]
  },
  {
   "cell_type": "markdown",
   "metadata": {},
   "source": [
    "### Exercise 5:\n",
    "Just Play around with graphs!"
   ]
  },
  {
   "cell_type": "code",
   "execution_count": null,
   "metadata": {},
   "outputs": [],
   "source": []
  },
  {
   "cell_type": "markdown",
   "metadata": {},
   "source": [
    "Now that we've done the ground work, let's look at our first simple algorithm. The algorithm we are going to implement is called k-means. First, let's make some data."
   ]
  },
  {
   "cell_type": "code",
   "execution_count": 95,
   "metadata": {},
   "outputs": [
    {
     "data": {
      "text/plain": [
       "<function matplotlib.pyplot.show(*args, **kw)>"
      ]
     },
     "execution_count": 95,
     "metadata": {},
     "output_type": "execute_result"
    },
    {
     "data": {
      "image/png": "[encoded data removed]",
      "text/plain": [
       "<Figure size 432x288 with 1 Axes>"
      ]
     },
     "metadata": {
      "needs_background": "light"
     },
     "output_type": "display_data"
    }
   ],
   "source": [
    "xsA=np.random.normal(2, 0.5, 20)\n",
    "ysA=np.random.normal(3, 1, 20)\n",
    "\n",
    "xsB=np.random.normal(4, 0.8, 20)\n",
    "ysB=np.random.normal(3, 0.5, 20)\n",
    "\n",
    "\n",
    "plt.scatter(xsA, ysA)\n",
    "plt.scatter(xsB, ysB)\n",
    "\n",
    "plt.show"
   ]
  },
  {
   "cell_type": "markdown",
   "metadata": {},
   "source": [
    "We know these are two separate sets of data, as well as their mean and variance, because we generated them. What if we didn't know these things and needed to separate the data? "
   ]
  },
  {
   "cell_type": "code",
   "execution_count": 96,
   "metadata": {},
   "outputs": [
    {
     "data": {
      "text/plain": [
       "<function matplotlib.pyplot.show(*args, **kw)>"
      ]
     },
     "execution_count": 96,
     "metadata": {},
     "output_type": "execute_result"
    },
    {
     "data": {
      "image/png": "[encoded data removed]",
      "text/plain": [
       "<Figure size 432x288 with 1 Axes>"
      ]
     },
     "metadata": {
      "needs_background": "light"
     },
     "output_type": "display_data"
    }
   ],
   "source": [
    "xs=np.concatenate((xsA,xsB))\n",
    "ys=np.concatenate((ysA,ysB))\n",
    "\n",
    "plt.scatter(xs,ys)\n",
    "plt.show"
   ]
  },
  {
   "cell_type": "markdown",
   "metadata": {},
   "source": [
    "One way to go about it is to put them in two \"clusters\". For our algorithm, we first need to randomly pick two centers for our clusters."
   ]
  },
  {
   "cell_type": "code",
   "execution_count": 97,
   "metadata": {},
   "outputs": [],
   "source": [
    "x1=np.random.randint(0,6)\n",
    "y1=np.random.randint(1,8)\n",
    "\n",
    "x2=np.random.randint(0,6)\n",
    "y2=np.random.randint(1,8)"
   ]
  },
  {
   "cell_type": "markdown",
   "metadata": {},
   "source": [
    "Then, we need to check for each point which cluster it is closer to."
   ]
  },
  {
   "cell_type": "code",
   "execution_count": 98,
   "metadata": {},
   "outputs": [
    {
     "data": {
      "text/plain": [
       "(array([1.18882391, 1.739262  , 1.94752822, 2.20338705, 2.51116023,\n",
       "        2.02683285, 2.14815557, 1.52094769, 2.57376865, 2.07822723,\n",
       "        1.55068694, 2.54682786, 1.51386055, 2.24351247, 2.4220968 ,\n",
       "        2.41053589, 1.94272364, 3.61995041, 2.9214448 , 3.97719452,\n",
       "        5.22800239, 4.74181601, 3.38313608, 2.5341226 , 5.21230689,\n",
       "        4.01654804, 5.09809559, 2.43334748, 4.68003864, 4.51898882,\n",
       "        4.96800259, 4.31296353, 4.69602181, 4.36910178, 3.52796532,\n",
       "        4.12491488, 4.41297707]),\n",
       " array([4.36222408, 3.98987811, 5.50654813, 2.6350084 , 3.08044277,\n",
       "        3.13525538, 4.79500985, 3.04231148, 2.58610791, 4.11179938,\n",
       "        3.95014618, 2.75457148, 4.37445332, 2.45430409, 2.96956226,\n",
       "        4.27196132, 3.3638551 , 2.99401368, 3.26111658, 4.02314266,\n",
       "        2.1634045 , 2.79026331, 2.38696478, 3.67420616, 3.21219772,\n",
       "        3.92581773, 2.39508566, 3.11082824, 2.84132115, 3.33110449,\n",
       "        2.06157585, 2.63980786, 2.8621473 , 3.50425636, 2.15729481,\n",
       "        2.92632359, 2.94061747]),\n",
       " array([1.4640666 , 1.21816633, 1.12724882]),\n",
       " array([2.47922075, 1.94784357, 3.11405518]))"
      ]
     },
     "execution_count": 98,
     "metadata": {},
     "output_type": "execute_result"
    },
    {
     "data": {
      "image/png": "[encoded data removed]",
      "text/plain": [
       "<Figure size 432x288 with 1 Axes>"
      ]
     },
     "metadata": {
      "needs_background": "light"
     },
     "output_type": "display_data"
    }
   ],
   "source": [
    "import math\n",
    "\n",
    "def distance(x1,y1,x2,y2):\n",
    "    return math.sqrt((x1-x2)**2+(y1-y2)**2)\n",
    "\n",
    "def findclusters(xs,ys,x1,y1,x2,y2):\n",
    "    Axs=np.array([])\n",
    "    Ays=np.array([])\n",
    "    Bxs=np.array([])\n",
    "    Bys=np.array([])\n",
    "\n",
    "    for i in range(len(xs)):\n",
    "        if distance(xs[i],ys[i],x1,y1)<distance(xs[i],ys[i],x2,y2):\n",
    "            Axs=np.append(Axs,xs[i])\n",
    "            Ays=np.append(Ays,ys[i])\n",
    "        else:\n",
    "            Bxs=np.append(Bxs,xs[i])\n",
    "            Bys=np.append(Bys,ys[i])\n",
    "\n",
    "    plt.scatter(Axs,Ays)\n",
    "    plt.scatter(Bxs,Bys)\n",
    "    plt.show\n",
    "    return(Axs,Ays,Bxs,Bys)\n",
    "    \n",
    "findclusters(xs,ys,x1,y1,x2,y2)"
   ]
  },
  {
   "cell_type": "markdown",
   "metadata": {},
   "source": [
    "Once we've done this for all points we need to recalculate the cluster centers. We do that by taking the average x and y coordinates of each of the two lists."
   ]
  },
  {
   "cell_type": "code",
   "execution_count": 99,
   "metadata": {},
   "outputs": [
    {
     "name": "stdout",
     "output_type": "stream",
     "text": [
      "(3.028868964266738, 3.2031512160514644)\n"
     ]
    }
   ],
   "source": [
    "def average(xs,ys):\n",
    "    x=sum(xs)/len(xs)\n",
    "    y=sum(ys)/len(ys)\n",
    "    return x,y\n",
    "print(average(xs,ys))"
   ]
  },
  {
   "cell_type": "markdown",
   "metadata": {},
   "source": [
    "We notice the as we run this, it gives better and better results. Congrats! You now know how to do a fundamental data processing algorithm! "
   ]
  },
  {
   "cell_type": "code",
   "execution_count": 100,
   "metadata": {},
   "outputs": [],
   "source": [
    "def kmeans(i,xs,ys,x1,y1,x2,y2):\n",
    "    for j in range(i):\n",
    "        Axs,Ays,Bxs,Bys=findclusters(xs,ys,x1,y1,x2,y2)\n",
    "        x1,y1=average(Axs,Ays)\n",
    "        x2,y2=average(Bxs,Bys)"
   ]
  },
  {
   "cell_type": "code",
   "execution_count": 101,
   "metadata": {},
   "outputs": [
    {
     "data": {
      "image/png": "[encoded data removed]",
      "text/plain": [
       "<Figure size 432x288 with 1 Axes>"
      ]
     },
     "metadata": {
      "needs_background": "light"
     },
     "output_type": "display_data"
    }
   ],
   "source": [
    "i=100\n",
    "kmeans(i,xs,ys,x1,y1,x2,y2)"
   ]
  },
  {
   "cell_type": "code",
   "execution_count": null,
   "metadata": {},
   "outputs": [],
   "source": []
  }
 ],
 "metadata": {
  "kernelspec": {
   "display_name": "Python 3",
   "language": "python",
   "name": "python3"
  },
  "language_info": {
   "codemirror_mode": {
    "name": "ipython",
    "version": 3
   },
   "file_extension": ".py",
   "mimetype": "text/x-python",
   "name": "python",
   "nbconvert_exporter": "python",
   "pygments_lexer": "ipython3",
   "version": "3.7.6"
  }
 },
 "nbformat": 4,
 "nbformat_minor": 2
}
